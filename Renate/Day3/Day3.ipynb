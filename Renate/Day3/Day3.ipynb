{
 "cells": [
  {
   "cell_type": "code",
   "execution_count": 224,
   "metadata": {},
   "outputs": [],
   "source": [
    "import pandas as pd\n",
    "import numpy as np"
   ]
  },
  {
   "cell_type": "code",
   "execution_count": 61,
   "metadata": {},
   "outputs": [],
   "source": [
    "input = open(\"input.txt\", mode = 'r')\n",
    "input = input.readlines()"
   ]
  },
  {
   "cell_type": "code",
   "execution_count": null,
   "metadata": {},
   "outputs": [],
   "source": [
    "# Each rucksack two compartments\n",
    "# A certain item only in ONE specific compartment\n",
    "# Some items in both: find these.\n",
    "# Identified: letter and lower/upper case.\n",
    "# Exactly half of line in each compartment\n",
    "\n",
    "# Prioritise rearrangement: lower case a-z = 1-26; upper case A-Z = 27-52\n",
    "# output: sum of priorities of items"
   ]
  },
  {
   "cell_type": "code",
   "execution_count": 193,
   "metadata": {},
   "outputs": [],
   "source": [
    "df = pd.DataFrame({'line': input})\n",
    "df['length_line'] = 0\n",
    "for i in range(len(df)):\n",
    "    df.loc[i,'length_line'] = len(df['line'][i])\n",
    "    df.loc[i, 'letters_first'] = df.line[i][:df.length_line[i]//2]\n",
    "    df.loc[i, 'letters_second'] = df.line[i][df.length_line[i]//2:]\n",
    "\n",
    "error_list = []\n",
    "for i in range(len(df)):\n",
    "    first = list(df['letters_first'][i])\n",
    "    second = list(df['letters_second'][i])\n",
    "    df.loc[i, 'errors'] = str(set(first).intersection(second))[2]\n",
    "\n",
    "for i in range(len(df)):\n",
    "    if df['errors'][i].isupper() == True:\n",
    "        df.loc[i,'priority'] = ord(df['errors'][i]) - 64 + 26\n",
    "    else:\n",
    "        df.loc[i,'priority'] = ord(df['errors'][i]) - 96\n"
   ]
  },
  {
   "cell_type": "code",
   "execution_count": 194,
   "metadata": {},
   "outputs": [
    {
     "data": {
      "text/plain": [
       "8039.0"
      ]
     },
     "execution_count": 194,
     "metadata": {},
     "output_type": "execute_result"
    }
   ],
   "source": [
    "sum(df['priority'])"
   ]
  },
  {
   "cell_type": "code",
   "execution_count": null,
   "metadata": {},
   "outputs": [],
   "source": [
    "# Elves in groups of 3\n",
    "# Three elves carry only badges\n",
    "# Two elves at most, two any other item \n",
    "# Three lines single group\n",
    "# Output: sum of priorities"
   ]
  },
  {
   "cell_type": "code",
   "execution_count": 231,
   "metadata": {},
   "outputs": [],
   "source": [
    "list_groups = []\n",
    "for j in [[i+1]*3 for i in range(int(len(df)/3))]:\n",
    "    list_groups.append(j)\n",
    "list_groups = list(np.concatenate(list_groups))\n",
    "df['groups'] = list_groups"
   ]
  },
  {
   "cell_type": "code",
   "execution_count": 289,
   "metadata": {},
   "outputs": [],
   "source": [
    "res = pd.DataFrame(columns=['groups', 'badges'])\n",
    "badges = []\n",
    "for i in range(len(df['groups'].unique())):\n",
    "    df_temp = df[df['groups']==(i+1)]\n",
    "    temp = []\n",
    "    for j in range(len(df_temp.iloc[0]['line'])):\n",
    "        if (df_temp.iloc[0]['line'][j] in list(df_temp.iloc[1]['line']) and (df_temp.iloc[0]['line'][j] in list(df_temp.iloc[2]['line'])) == True):\n",
    "                # badges.append(df_temp.iloc[0]['line'][j])\n",
    "                temp = df_temp.iloc[0]['line'][j]\n",
    "        else: pass\n",
    "    df_con = pd.DataFrame({'groups': df_temp.iloc[0]['groups'], 'badges': temp}, index = [i])\n",
    "    res = pd.concat([res, df_con]).reset_index(drop=True)\n",
    "\n",
    "badges_numeric = []\n",
    "for i in range(len(res)):\n",
    "    if res['badges'][i].isupper() == True:\n",
    "        badges_numeric.append(ord(res['badges'][i]) - 64 + 26)\n",
    "    else:\n",
    "        badges_numeric.append(ord(res['badges'][i]) - 96)\n",
    "        "
   ]
  },
  {
   "cell_type": "code",
   "execution_count": 290,
   "metadata": {},
   "outputs": [
    {
     "data": {
      "text/plain": [
       "2510"
      ]
     },
     "execution_count": 290,
     "metadata": {},
     "output_type": "execute_result"
    }
   ],
   "source": [
    "sum(badges_numeric)"
   ]
  }
 ],
 "metadata": {
  "kernelspec": {
   "display_name": "Python 3.9.12 ('base')",
   "language": "python",
   "name": "python3"
  },
  "language_info": {
   "codemirror_mode": {
    "name": "ipython",
    "version": 3
   },
   "file_extension": ".py",
   "mimetype": "text/x-python",
   "name": "python",
   "nbconvert_exporter": "python",
   "pygments_lexer": "ipython3",
   "version": "3.9.12"
  },
  "orig_nbformat": 4,
  "vscode": {
   "interpreter": {
    "hash": "4f89240e11a62c0f9ffc54e01febbec25c1552bf38994777b0465512a43d202c"
   }
  }
 },
 "nbformat": 4,
 "nbformat_minor": 2
}
