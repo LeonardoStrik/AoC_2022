{
 "cells": [
  {
   "cell_type": "code",
   "execution_count": 1,
   "metadata": {},
   "outputs": [],
   "source": [
    "import pandas as pd\n",
    "import numpy as np\n"
   ]
  },
  {
   "cell_type": "code",
   "execution_count": 2,
   "metadata": {},
   "outputs": [],
   "source": [
    "# Rock Paper Scissors\n",
    "\n",
    "# Encrypted stategy guide:\n",
    "# col1 = opponent\n",
    "# A = Rock; B = Paper; C = Scissors\n",
    "\n",
    "# col2 = ? what should be played\n",
    "# X = Rock; Y = Paper; Z = Scissors\n",
    "\n",
    "# Winner = highest total score (summed rounds)\n",
    "# Summed score = 1*Rock + 2*Paper + 3*Scissors + 0*Lost + 3*Draw + 6*won\n"
   ]
  },
  {
   "cell_type": "code",
   "execution_count": 3,
   "metadata": {},
   "outputs": [],
   "source": [
    "input = open(\"input.txt\", mode='r')\n",
    "input = input.readlines()\n",
    "\n",
    "df = pd.DataFrame(columns=['opponent', 'own'])\n",
    "for i in range(len(input)):\n",
    "    df_concat = pd.DataFrame(\n",
    "        {'opponent': [input[i][0:1]], 'own': [input[i][2:3]]})\n",
    "    df = pd.concat([df, df_concat]).reset_index(drop=True)\n"
   ]
  },
  {
   "cell_type": "code",
   "execution_count": 4,
   "metadata": {},
   "outputs": [],
   "source": [
    "# Rock defeats Scissors, Scissors defeats Paper, and Paper defeats Rock.\n",
    "# A = Rock; B = Paper; C = Scissors\n",
    "# X = Rock; Y = Paper; Z = Scissors\n",
    "df['xyz'] = df['own']\n",
    "\n",
    "df['own'] = df['own'].str.replace('X', 'A') \\\n",
    "    .str.replace('Y', 'B') \\\n",
    "    .str.replace('Z', 'C')\n",
    "\n",
    "# Summed score = 1*Rock + 2*Paper + 3*Scissors + 0*Lost + 3*Draw + 6*won\n",
    "df['result'] = '0'\n",
    "for i in range(len(df)):\n",
    "\n",
    "    if df['opponent'][i] == df['own'][i]:\n",
    "        df['result'][i] = 3\n",
    "\n",
    "    elif df['opponent'][i] == 'A':\n",
    "        if df['own'][i] == 'B':\n",
    "            df['result'][i] = 6\n",
    "        else:\n",
    "            df['result'][i] = 0\n",
    "\n",
    "    elif df['opponent'][i] == 'B':\n",
    "        if df['own'][i] == 'C':\n",
    "            df['result'][i] = 6\n",
    "        else:\n",
    "            df['result'][i] = 0\n",
    "\n",
    "    else:  # C\n",
    "        if df['own'][i] == 'A':\n",
    "            df['result'][i] = 6\n",
    "        else:\n",
    "            df['result'][i] = 0"
   ]
  },
  {
   "cell_type": "code",
   "execution_count": 5,
   "metadata": {},
   "outputs": [],
   "source": [
    "# A = Rock; B = Paper; C = Scissors\n",
    "# Summed score = 1*Rock + 2*Paper + 3*Scissors + 0*Lost + 3*Draw + 6*won\n",
    "df['type'] = df['own']\n",
    "df['type'] = df['type'].replace(['A', 'B', 'C'], [1, 2, 3])\n"
   ]
  },
  {
   "cell_type": "code",
   "execution_count": 6,
   "metadata": {},
   "outputs": [
    {
     "data": {
      "text/plain": [
       "10595"
      ]
     },
     "execution_count": 6,
     "metadata": {},
     "output_type": "execute_result"
    }
   ],
   "source": [
    "df['result'] = df['result'].astype(np.int64)\n",
    "df['score'] = 0\n",
    "df['score'] = sum([df['type'], df['result']])\n",
    "sum(df['score'])\n"
   ]
  },
  {
   "cell_type": "code",
   "execution_count": 7,
   "metadata": {},
   "outputs": [],
   "source": [
    "# 9641 too low\n",
    "# 19103 too high"
   ]
  },
  {
   "cell_type": "code",
   "execution_count": 8,
   "metadata": {},
   "outputs": [
    {
     "name": "stderr",
     "output_type": "stream",
     "text": [
      "C:\\Users\\renat\\AppData\\Local\\Temp\\ipykernel_20532\\4276234141.py:15: SettingWithCopyWarning: \n",
      "A value is trying to be set on a copy of a slice from a DataFrame\n",
      "\n",
      "See the caveats in the documentation: https://pandas.pydata.org/pandas-docs/stable/user_guide/indexing.html#returning-a-view-versus-a-copy\n",
      "  df['own2'][i] = df['opponent'][i]\n"
     ]
    }
   ],
   "source": [
    "# 2\n",
    "\n",
    "# X = lose\n",
    "# Y = draw\n",
    "# Z = win\n",
    "\n",
    "# Rock defeats Scissors, Scissors defeats Paper, and Paper defeats Rock.\n",
    "# A = Rock; B = Paper; C = Scissors\n",
    "\n",
    "df['result2'] = df['xyz'].replace(['X', 'Y', 'Z'], [0, 3, 6])\n",
    "df['own2'] = 0\n",
    "for i in range(len(df)):\n",
    "\n",
    "    if df['xyz'][i] == 'Y':\n",
    "        df['own2'][i] = df['opponent'][i]\n",
    "    \n",
    "    elif df['xyz'][i] == 'X':\n",
    "        if df['opponent'][i] == 'A':\n",
    "            df['own2'][i] = 'C'\n",
    "        elif df['opponent'][i] == 'B':\n",
    "            df['own2'][i] = 'A'\n",
    "        else: #C\n",
    "            df['own2'][i] = 'B'\n",
    "    \n",
    "    else: #Z\n",
    "        if df['opponent'][i] == 'A':\n",
    "            df['own2'][i] = 'B'\n",
    "        elif df['opponent'][i] == 'B':\n",
    "            df['own2'][i] = 'C'\n",
    "        else: #C\n",
    "            df['own2'][i] = 'A'\n",
    "\n",
    "df['type2'] = df['own2']\n",
    "df['type2'] = df['type2'].replace(['A', 'B', 'C'], [1, 2, 3])\n",
    "\n"
   ]
  },
  {
   "cell_type": "code",
   "execution_count": 10,
   "metadata": {},
   "outputs": [
    {
     "data": {
      "text/plain": [
       "9541"
      ]
     },
     "execution_count": 10,
     "metadata": {},
     "output_type": "execute_result"
    }
   ],
   "source": [
    "df['score2'] = sum([df['type2'], df['result2']])\n",
    "sum(df['score2'])"
   ]
  },
  {
   "cell_type": "code",
   "execution_count": null,
   "metadata": {},
   "outputs": [],
   "source": []
  }
 ],
 "metadata": {
  "kernelspec": {
   "display_name": "Python 3.9.12 ('base')",
   "language": "python",
   "name": "python3"
  },
  "language_info": {
   "codemirror_mode": {
    "name": "ipython",
    "version": 3
   },
   "file_extension": ".py",
   "mimetype": "text/x-python",
   "name": "python",
   "nbconvert_exporter": "python",
   "pygments_lexer": "ipython3",
   "version": "3.9.12"
  },
  "orig_nbformat": 4,
  "vscode": {
   "interpreter": {
    "hash": "4f89240e11a62c0f9ffc54e01febbec25c1552bf38994777b0465512a43d202c"
   }
  }
 },
 "nbformat": 4,
 "nbformat_minor": 2
}
