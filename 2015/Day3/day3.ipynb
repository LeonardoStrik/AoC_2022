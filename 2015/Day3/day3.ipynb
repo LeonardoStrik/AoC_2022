{
 "cells": [
  {
   "cell_type": "code",
   "execution_count": 29,
   "metadata": {},
   "outputs": [],
   "source": [
    "with open(\"input.txt\") as file:\n",
    "    lines=file.readlines()\n"
   ]
  },
  {
   "cell_type": "code",
   "execution_count": 30,
   "metadata": {},
   "outputs": [],
   "source": [
    "line=lines[0].strip()\n",
    "\n",
    "x=y=0\n",
    "gift_amts={\"0, 0\":1}\n",
    "\n",
    "for char in line:\n",
    "    if char == \"<\":\n",
    "        x-=1\n",
    "    elif char == \">\":\n",
    "        x+=1\n",
    "    elif char ==\"v\":\n",
    "        y-=1\n",
    "    else:\n",
    "        y+=1\n",
    "    \n",
    "    try:\n",
    "        gift_amts[f\"{x}, {y}\"]+=1\n",
    "    except KeyError:\n",
    "        gift_amts[f\"{x}, {y}\"]=1\n",
    "    "
   ]
  },
  {
   "cell_type": "code",
   "execution_count": 31,
   "metadata": {},
   "outputs": [
    {
     "data": {
      "text/plain": [
       "2592"
      ]
     },
     "execution_count": 31,
     "metadata": {},
     "output_type": "execute_result"
    }
   ],
   "source": [
    "len(gift_amts)"
   ]
  },
  {
   "cell_type": "markdown",
   "metadata": {},
   "source": [
    "# Part 2"
   ]
  },
  {
   "cell_type": "code",
   "execution_count": 32,
   "metadata": {},
   "outputs": [],
   "source": [
    "del(gift_amts)\n",
    "# Santa\n",
    "\n",
    "x_santa=y_santa=0\n",
    "gift_amts={\"0, 0\":1}\n",
    "\n",
    "for i in range(0,len(line),2):\n",
    "    char=line[i]\n",
    "    if char == \"<\":\n",
    "        x_santa-=1\n",
    "    elif char == \">\":\n",
    "        x_santa+=1\n",
    "    elif char ==\"v\":\n",
    "        y_santa-=1\n",
    "    else:\n",
    "        y_santa+=1\n",
    "    \n",
    "    try:\n",
    "        gift_amts[f\"{x_santa}, {y_santa}\"]+=1\n",
    "    except KeyError:\n",
    "        gift_amts[f\"{x_santa}, {y_santa}\"]=1\n",
    "\n",
    "# Robo-Santa\n",
    "\n",
    "x_robo_santa=y_robo_santa=0\n",
    "\n",
    "for i in range(1,len(line),2):\n",
    "    char=line[i]\n",
    "    if char == \"<\":\n",
    "        x_robo_santa-=1\n",
    "    elif char == \">\":\n",
    "        x_robo_santa+=1\n",
    "    elif char ==\"v\":\n",
    "        y_robo_santa-=1\n",
    "    else:\n",
    "        y_robo_santa+=1\n",
    "    \n",
    "    try:\n",
    "        gift_amts[f\"{x_robo_santa}, {y_robo_santa}\"]+=1\n",
    "    except KeyError:\n",
    "        gift_amts[f\"{x_robo_santa}, {y_robo_santa}\"]=1\n"
   ]
  },
  {
   "cell_type": "code",
   "execution_count": 33,
   "metadata": {},
   "outputs": [
    {
     "data": {
      "text/plain": [
       "2360"
      ]
     },
     "execution_count": 33,
     "metadata": {},
     "output_type": "execute_result"
    }
   ],
   "source": [
    "len(gift_amts) # 1152 too low"
   ]
  }
 ],
 "metadata": {
  "kernelspec": {
   "display_name": "Python 3.9.13 ('base')",
   "language": "python",
   "name": "python3"
  },
  "language_info": {
   "codemirror_mode": {
    "name": "ipython",
    "version": 3
   },
   "file_extension": ".py",
   "mimetype": "text/x-python",
   "name": "python",
   "nbconvert_exporter": "python",
   "pygments_lexer": "ipython3",
   "version": "3.9.13"
  },
  "orig_nbformat": 4,
  "vscode": {
   "interpreter": {
    "hash": "1eab39844f49fe378870e01884132b9a01e61bfdb7013dba0b232b1cf67de0bc"
   }
  }
 },
 "nbformat": 4,
 "nbformat_minor": 2
}
