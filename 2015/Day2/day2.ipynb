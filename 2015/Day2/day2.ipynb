{
 "cells": [
  {
   "cell_type": "code",
   "execution_count": 43,
   "metadata": {},
   "outputs": [],
   "source": [
    "with open(\"input.txt\") as file:\n",
    "    lines=file.readlines()\n",
    "\n",
    "lines=[line.strip().split(\"x\") for line in lines]\n",
    "total_area=0\n",
    "lines=[(int(l),int(w),int(h)) for l,w,h in lines]\n"
   ]
  },
  {
   "cell_type": "code",
   "execution_count": 44,
   "metadata": {},
   "outputs": [
    {
     "data": {
      "text/plain": [
       "1586300"
      ]
     },
     "execution_count": 44,
     "metadata": {},
     "output_type": "execute_result"
    }
   ],
   "source": [
    "\n",
    "for l, w ,h in lines:\n",
    "    sides=[l*w , w*h, h*l]\n",
    "    area=min(sides)+2*sum(sides)\n",
    "    total_area+=area\n",
    "total_area"
   ]
  },
  {
   "cell_type": "markdown",
   "metadata": {},
   "source": [
    "# Part 2"
   ]
  },
  {
   "cell_type": "code",
   "execution_count": 45,
   "metadata": {},
   "outputs": [
    {
     "data": {
      "text/plain": [
       "3737498"
      ]
     },
     "execution_count": 45,
     "metadata": {},
     "output_type": "execute_result"
    }
   ],
   "source": [
    "total_length=0\n",
    "\n",
    "for line in lines:\n",
    "    line = list(line)\n",
    "    line.sort()\n",
    "    x,y,z =line\n",
    "    length=2*(x+y)\n",
    "    length+=x*y*z\n",
    "    total_length+=length\n",
    "\n",
    "total_length\n"
   ]
  }
 ],
 "metadata": {
  "kernelspec": {
   "display_name": "Python 3.9.13 ('base')",
   "language": "python",
   "name": "python3"
  },
  "language_info": {
   "codemirror_mode": {
    "name": "ipython",
    "version": 3
   },
   "file_extension": ".py",
   "mimetype": "text/x-python",
   "name": "python",
   "nbconvert_exporter": "python",
   "pygments_lexer": "ipython3",
   "version": "3.9.13"
  },
  "orig_nbformat": 4,
  "vscode": {
   "interpreter": {
    "hash": "1eab39844f49fe378870e01884132b9a01e61bfdb7013dba0b232b1cf67de0bc"
   }
  }
 },
 "nbformat": 4,
 "nbformat_minor": 2
}
