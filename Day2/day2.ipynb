{
 "cells": [
  {
   "cell_type": "code",
   "execution_count": 1,
   "metadata": {},
   "outputs": [],
   "source": [
    "with open('input.txt') as file:\n",
    "    lines = file.readlines()"
   ]
  },
  {
   "cell_type": "code",
   "execution_count": 10,
   "metadata": {},
   "outputs": [],
   "source": [
    "moves=[]\n",
    "\n",
    "# Put moves in a list, and strip trailing whitespace characters\n",
    "for line in lines:\n",
    "    moves.append([x.rstrip() for x in line.split(\" \")]) "
   ]
  },
  {
   "cell_type": "code",
   "execution_count": 12,
   "metadata": {},
   "outputs": [],
   "source": [
    "# A, X: Rock\n",
    "# B, Y: Paper\n",
    "# C, Z: Scissors\n",
    "opponent=[\"A\", \"B\", \"C\"]\n",
    "own=[\"X\", \"Y\", \"Z\"]\n",
    "win={\"A\":\"Y\", \"B\":\"Z\", \"C\":\"X\"} # Move combinations where we win"
   ]
  },
  {
   "cell_type": "code",
   "execution_count": 20,
   "metadata": {},
   "outputs": [
    {
     "data": {
      "text/plain": [
       "12276"
      ]
     },
     "execution_count": 20,
     "metadata": {},
     "output_type": "execute_result"
    }
   ],
   "source": [
    "score = 0\n",
    "\n",
    "for move in moves:\n",
    "    opp_move = move[0]\n",
    "    own_move = move[1]\n",
    "\n",
    "    # Determine winner\n",
    "    if opponent.index(opp_move)==own.index(own_move):\n",
    "        score+=3\n",
    "    elif win[opp_move]==own_move:\n",
    "        score+=6\n",
    "    else:\n",
    "        score+=0\n",
    "    \n",
    "    # Add  move score\n",
    "    score+=own.index(own_move)+1\n",
    "score"
   ]
  },
  {
   "cell_type": "code",
   "execution_count": 15,
   "metadata": {},
   "outputs": [],
   "source": [
    "test={\"A\":\"Y\", \"B\":\"Z\", \"C\":\"X\"}"
   ]
  },
  {
   "cell_type": "code",
   "execution_count": 17,
   "metadata": {},
   "outputs": [
    {
     "data": {
      "text/plain": [
       "['A', 'B', 'C']"
      ]
     },
     "execution_count": 17,
     "metadata": {},
     "output_type": "execute_result"
    }
   ],
   "source": [
    "list(test.keys())"
   ]
  }
 ],
 "metadata": {
  "kernelspec": {
   "display_name": "Python 3.9.13 ('base')",
   "language": "python",
   "name": "python3"
  },
  "language_info": {
   "codemirror_mode": {
    "name": "ipython",
    "version": 3
   },
   "file_extension": ".py",
   "mimetype": "text/x-python",
   "name": "python",
   "nbconvert_exporter": "python",
   "pygments_lexer": "ipython3",
   "version": "3.9.13"
  },
  "orig_nbformat": 4,
  "vscode": {
   "interpreter": {
    "hash": "1eab39844f49fe378870e01884132b9a01e61bfdb7013dba0b232b1cf67de0bc"
   }
  }
 },
 "nbformat": 4,
 "nbformat_minor": 2
}
