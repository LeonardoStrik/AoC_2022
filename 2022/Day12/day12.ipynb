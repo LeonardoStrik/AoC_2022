{
 "cells": [
  {
   "cell_type": "code",
   "execution_count": 2,
   "metadata": {},
   "outputs": [],
   "source": [
    "import numpy as np\n",
    "import matplotlib.pyplot as plt\n",
    "test=True"
   ]
  },
  {
   "cell_type": "code",
   "execution_count": 3,
   "metadata": {},
   "outputs": [
    {
     "name": "stdout",
     "output_type": "stream",
     "text": [
      "[['S' 'a' 'b' 'q' 'p' 'o' 'n' 'm']\n",
      " ['a' 'b' 'c' 'r' 'y' 'x' 'x' 'l']\n",
      " ['a' 'c' 'c' 's' 'z' 'E' 'x' 'k']\n",
      " ['a' 'c' 'c' 't' 'u' 'v' 'w' 'j']\n",
      " ['a' 'b' 'd' 'e' 'f' 'g' 'h' 'i']] (0, 0) (2, 5)\n"
     ]
    }
   ],
   "source": [
    "filename = 'test.txt' if test else 'input.txt'\n",
    "with open(filename) as f:\n",
    "    lines=f.readlines()\n",
    "elv_map=np.array([list(line.strip()) for line in lines])\n",
    "loc_to_ple = lambda loc: tuple([x[0] for x in loc])\n",
    "\n",
    "start_pos=loc_to_ple(np.where(elv_map=='S'))\n",
    "target_pos=loc_to_ple(np.where(elv_map=='E'))\n",
    "if test: print(elv_map, start_pos, target_pos)"
   ]
  },
  {
   "cell_type": "code",
   "execution_count": 4,
   "metadata": {},
   "outputs": [
    {
     "data": {
      "image/png": "[encoded data removed]",
      "text/plain": [
       "<Figure size 640x480 with 1 Axes>"
      ]
     },
     "metadata": {},
     "output_type": "display_data"
    }
   ],
   "source": [
    "value_replacer = lambda x: 0 if x == 'S' else( 25 if x == 'E' else ord(x)-97)\n",
    "value_replacer = np.vectorize(value_replacer)\n",
    "elv_map=value_replacer(elv_map)\n",
    "if test: plt.imshow(elv_map, interpolation=None)"
   ]
  },
  {
   "cell_type": "code",
   "execution_count": 5,
   "metadata": {},
   "outputs": [],
   "source": [
    "def find_reachable(elv_map, pos):\n",
    "    current = elv_map[pos]\n",
    "    reachable = []\n",
    "    for offset in [(0, 1), (0, -1), (1, 0), (-1, 0)]:\n",
    "        loc = pos[0] + offset[0], pos[1] + offset[1]\n",
    "        try:\n",
    "            if elv_map[loc] <= current and loc[0] >= 0 and loc[1] >= 0:\n",
    "                reachable.append((loc))\n",
    "        except IndexError:\n",
    "            pass\n",
    "    return reachable"
   ]
  },
  {
   "cell_type": "code",
   "execution_count": 9,
   "metadata": {},
   "outputs": [
    {
     "ename": "ValueError",
     "evalue": "The truth value of an array with more than one element is ambiguous. Use a.any() or a.all()",
     "output_type": "error",
     "traceback": [
      "\u001b[1;31m---------------------------------------------------------------------------\u001b[0m",
      "\u001b[1;31mValueError\u001b[0m                                Traceback (most recent call last)",
      "Cell \u001b[1;32mIn[9], line 7\u001b[0m\n\u001b[0;32m      5\u001b[0m     locs_temp\u001b[39m=\u001b[39mfind_reachable(elv_map,loc)\n\u001b[0;32m      6\u001b[0m     \u001b[39mfor\u001b[39;00m loc_temp \u001b[39min\u001b[39;00m locs_temp:\n\u001b[1;32m----> 7\u001b[0m         \u001b[39mif\u001b[39;00m \u001b[39mnot\u001b[39;00m loc_temp \u001b[39min\u001b[39;49;00m locs_new:\n\u001b[0;32m      8\u001b[0m             locs_new\u001b[39m+\u001b[39m\u001b[39m=\u001b[39mloc_temp\n\u001b[0;32m      9\u001b[0m \u001b[39mif\u001b[39;00m target_pos \u001b[39min\u001b[39;00m locs_new: \u001b[39mbreak\u001b[39;00m\n",
      "\u001b[1;31mValueError\u001b[0m: The truth value of an array with more than one element is ambiguous. Use a.any() or a.all()"
     ]
    }
   ],
   "source": [
    "locs=[start_pos]\n",
    "for i in range(10):\n",
    "    locs_new=[]\n",
    "    for loc in locs:\n",
    "        locs_temp=find_reachable(elv_map,loc)\n",
    "        for loc_temp in locs_temp:\n",
    "            if not loc_temp in locs_new:\n",
    "                locs_new+=loc_temp\n",
    "    if target_pos in locs_new: break\n",
    "    locs=locs_new\n",
    "\n",
    "print(f'{locs = } \\n {locs_new = }')"
   ]
  },
  {
   "cell_type": "code",
   "execution_count": null,
   "metadata": {},
   "outputs": [
    {
     "ename": "NameError",
     "evalue": "name 'loc_temp' is not defined",
     "output_type": "error",
     "traceback": [
      "\u001b[1;31m---------------------------------------------------------------------------\u001b[0m",
      "\u001b[1;31mNameError\u001b[0m                                 Traceback (most recent call last)",
      "Cell \u001b[1;32mIn[1], line 1\u001b[0m\n\u001b[1;32m----> 1\u001b[0m \u001b[39mprint\u001b[39m(\u001b[39mf\u001b[39m\u001b[39m'\u001b[39m\u001b[39m{\u001b[39;00mloc_temp\u001b[39m \u001b[39m\u001b[39m= }\u001b[39;00m\u001b[39m \u001b[39m\u001b[39m\\n\u001b[39;00m\u001b[39m \u001b[39m\u001b[39m{\u001b[39;00mlocs_temp\u001b[39m \u001b[39m\u001b[39m= }\u001b[39;00m\u001b[39m \u001b[39m\u001b[39m\\n\u001b[39;00m\u001b[39m \u001b[39m\u001b[39m{\u001b[39;00mlocs_new\u001b[39m \u001b[39m\u001b[39m= }\u001b[39;00m\u001b[39m'\u001b[39m)\n",
      "\u001b[1;31mNameError\u001b[0m: name 'loc_temp' is not defined"
     ]
    }
   ],
   "source": [
    "print(f'{loc_temp = } \\n {locs_temp = } \\n {locs_new = }')\n"
   ]
  },
  {
   "cell_type": "code",
   "execution_count": null,
   "metadata": {},
   "outputs": [
    {
     "data": {
      "text/plain": [
       "True"
      ]
     },
     "execution_count": 121,
     "metadata": {},
     "output_type": "execute_result"
    }
   ],
   "source": [
    "loc_temp in locs_temp"
   ]
  }
 ],
 "metadata": {
  "kernelspec": {
   "display_name": "base",
   "language": "python",
   "name": "python3"
  },
  "language_info": {
   "codemirror_mode": {
    "name": "ipython",
    "version": 3
   },
   "file_extension": ".py",
   "mimetype": "text/x-python",
   "name": "python",
   "nbconvert_exporter": "python",
   "pygments_lexer": "ipython3",
   "version": "3.9.16"
  },
  "orig_nbformat": 4
 },
 "nbformat": 4,
 "nbformat_minor": 2
}
