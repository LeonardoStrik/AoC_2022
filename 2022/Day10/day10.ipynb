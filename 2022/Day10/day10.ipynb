{
 "cells": [
  {
   "cell_type": "code",
   "execution_count": 21,
   "metadata": {},
   "outputs": [],
   "source": [
    "with open(\"input.txt\") as file:\n",
    "    lines=file.readlines()"
   ]
  },
  {
   "cell_type": "code",
   "execution_count": 22,
   "metadata": {},
   "outputs": [],
   "source": [
    "commands=[line.strip().split(\" \") for line in lines]"
   ]
  },
  {
   "cell_type": "code",
   "execution_count": 24,
   "metadata": {},
   "outputs": [
    {
     "data": {
      "text/plain": [
       "15880"
      ]
     },
     "execution_count": 24,
     "metadata": {},
     "output_type": "execute_result"
    }
   ],
   "source": [
    "X=1\n",
    "cycle=1\n",
    "command_index=0\n",
    "cycles_X=[20,60,100,140,180,220]\n",
    "X_values=[]\n",
    "cycle_to_complete=1\n",
    "value_to_add=0\n",
    "while(command_index<len(commands)):\n",
    "    command=commands[command_index]\n",
    "\n",
    "    if cycle_to_complete==cycle:\n",
    "        X+=value_to_add\n",
    "        if command[0]==\"addx\":\n",
    "            cycle_to_complete=cycle+2\n",
    "            value_to_add=int(command[1])\n",
    "        else:\n",
    "            cycle_to_complete=cycle+1\n",
    "            value_to_add=0\n",
    "        command_index+=1\n",
    "\n",
    "    if cycle in cycles_X:\n",
    "        X_values.append(X*cycle)\n",
    "    cycle+=1\n",
    "\n",
    "sum(X_values)\n"
   ]
  }
 ],
 "metadata": {
  "kernelspec": {
   "display_name": "Python 3.9.13 ('base')",
   "language": "python",
   "name": "python3"
  },
  "language_info": {
   "codemirror_mode": {
    "name": "ipython",
    "version": 3
   },
   "file_extension": ".py",
   "mimetype": "text/x-python",
   "name": "python",
   "nbconvert_exporter": "python",
   "pygments_lexer": "ipython3",
   "version": "3.9.13"
  },
  "orig_nbformat": 4,
  "vscode": {
   "interpreter": {
    "hash": "1eab39844f49fe378870e01884132b9a01e61bfdb7013dba0b232b1cf67de0bc"
   }
  }
 },
 "nbformat": 4,
 "nbformat_minor": 2
}
