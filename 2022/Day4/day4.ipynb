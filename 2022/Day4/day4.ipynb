{
 "cells": [
  {
   "cell_type": "code",
   "execution_count": 1,
   "metadata": {},
   "outputs": [],
   "source": [
    "with open('input.txt') as file:\n",
    "    lines = file.readlines()"
   ]
  },
  {
   "cell_type": "code",
   "execution_count": 12,
   "metadata": {},
   "outputs": [],
   "source": [
    "fully_contained = 0\n",
    "\n",
    "for line in lines:\n",
    "    line = line.rstrip()\n",
    "    elf1, elf2 = line.split(\",\")\n",
    "    elf1 = elf1.split(\"-\")\n",
    "    elf2 = elf2.split(\"-\")\n",
    "    if (int(elf2[0]) >= int(elf1[0]) and int(elf2[1]) <= int(elf1[1])) or (int(elf1[0]) >= int(elf2[0]) and int(elf1[1]) <= int(elf2[1])):\n",
    "        fully_contained += 1\n"
   ]
  },
  {
   "cell_type": "code",
   "execution_count": 13,
   "metadata": {},
   "outputs": [
    {
     "data": {
      "text/plain": [
       "518"
      ]
     },
     "execution_count": 13,
     "metadata": {},
     "output_type": "execute_result"
    }
   ],
   "source": [
    "fully_contained # 553 too high"
   ]
  },
  {
   "cell_type": "markdown",
   "metadata": {},
   "source": [
    "# Part 2"
   ]
  },
  {
   "cell_type": "code",
   "execution_count": 25,
   "metadata": {},
   "outputs": [],
   "source": [
    "overlapping = 0\n",
    "test = []\n",
    "\n",
    "for line in lines:\n",
    "    line = line.rstrip()\n",
    "    elf1, elf2 = line.split(\",\")\n",
    "    elf1 = elf1.split(\"-\")\n",
    "    elf2 = elf2.split(\"-\")\n",
    "    elf1=[int(elf1[0]),int(elf1[1])]\n",
    "    elf2=[int(elf2[0]),int(elf2[1])]\n",
    "    \n",
    "    elf1=set(range(elf1[0],elf1[1]+1))\n",
    "    elf2=set(range(elf2[0],elf2[1]+1))\n",
    "    overlap=elf1.intersection(elf2)\n",
    "\n",
    "    if overlap != set(): # overlap must be an empty set\n",
    "        overlapping+=1\n"
   ]
  },
  {
   "cell_type": "code",
   "execution_count": 26,
   "metadata": {},
   "outputs": [
    {
     "data": {
      "text/plain": [
       "909"
      ]
     },
     "execution_count": 26,
     "metadata": {},
     "output_type": "execute_result"
    }
   ],
   "source": [
    "overlapping"
   ]
  }
 ],
 "metadata": {
  "kernelspec": {
   "display_name": "Python 3.9.13 ('base')",
   "language": "python",
   "name": "python3"
  },
  "language_info": {
   "codemirror_mode": {
    "name": "ipython",
    "version": 3
   },
   "file_extension": ".py",
   "mimetype": "text/x-python",
   "name": "python",
   "nbconvert_exporter": "python",
   "pygments_lexer": "ipython3",
   "version": "3.9.13"
  },
  "orig_nbformat": 4,
  "vscode": {
   "interpreter": {
    "hash": "1eab39844f49fe378870e01884132b9a01e61bfdb7013dba0b232b1cf67de0bc"
   }
  }
 },
 "nbformat": 4,
 "nbformat_minor": 2
}
