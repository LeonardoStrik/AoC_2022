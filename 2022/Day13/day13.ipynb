{
 "cells": [
  {
   "cell_type": "code",
   "execution_count": 4,
   "metadata": {},
   "outputs": [],
   "source": [
    "test=True\n",
    "filename='test.txt' if test else 'input.txt'"
   ]
  },
  {
   "cell_type": "code",
   "execution_count": 5,
   "metadata": {},
   "outputs": [],
   "source": [
    "with open(filename) as file:\n",
    "    lines=file.readlines()\n",
    "lines=[line.strip() for line in lines]"
   ]
  },
  {
   "cell_type": "code",
   "execution_count": 6,
   "metadata": {},
   "outputs": [
    {
     "name": "stdout",
     "output_type": "stream",
     "text": [
      "[[[1, 1, 3, 1, 1], [1, 1, 5, 1, 1]], [[[1], [2, 3, 4]], [[1], 4]], [[9], [[8, 7, 6]]], [[[4, 4], 4, 4], [[4, 4], 4, 4, 4]], [[7, 7, 7, 7], [7, 7, 7]], [[], [3]], [[[[]]], [[]]]]\n"
     ]
    }
   ],
   "source": [
    "packets=[]\n",
    "packet=[]\n",
    "for line in lines:\n",
    "    if line==\"\":\n",
    "        packets.append(packet)\n",
    "        packet=[]\n",
    "    else:\n",
    "        packet.append(eval(line))\n",
    "    \n",
    "if test: print(packets)"
   ]
  },
  {
   "attachments": {},
   "cell_type": "markdown",
   "metadata": {},
   "source": [
    "If both values are lists, compare the first value of each list, then the second value, and so on. \n",
    "- If the left list runs out of items first, the inputs are in the right order. \n",
    "- If the right list runs out of items first, the inputs are not in the right order. \n",
    "- If the lists are the same length and no comparison makes a decision about the order, continue checking the next part of the input"
   ]
  },
  {
   "cell_type": "code",
   "execution_count": 7,
   "metadata": {},
   "outputs": [],
   "source": [
    "def compare_ints(left, right): return left<right\n",
    "\n",
    "def compare_lists(left, right):\n",
    "    for i, left_item in enumerate(left):\n",
    "        try: right_item=right[i]\n",
    "        except IndexError: return False # If the right list runs out of items first, the inputs are not in the right order. \n",
    "        try: \n",
    "            if left_item<right_item: return True #\n",
    "        except TypeError:\n",
    "            return None\n",
    "        if left_item > right_item: return False\n"
   ]
  },
  {
   "cell_type": "code",
   "execution_count": 8,
   "metadata": {},
   "outputs": [],
   "source": [
    "def compare_items(left, right):\n",
    "    left_int = isinstance(left, int)\n",
    "    right_int = isinstance(right, int)\n",
    "    if left_int:\n",
    "        if right_int:  return compare_ints(left, right)\n",
    "        else: return compare_lists([left],right)\n",
    "    elif right_int:   return compare_lists(left, [right])\n",
    "    else: return compare_lists(left, right)"
   ]
  },
  {
   "cell_type": "code",
   "execution_count": 9,
   "metadata": {},
   "outputs": [],
   "source": [
    "def compare_packet(packet):\n",
    "    for i, left in enumerate(packet[:-1]):\n",
    "        right=packet[i+1]\n",
    "        valid_items = compare_items(left, right)\n",
    "        if valid_items is not None: return valid_items\n",
    "        else: return compare_items(left[0], right[0])"
   ]
  },
  {
   "cell_type": "code",
   "execution_count": null,
   "metadata": {},
   "outputs": [],
   "source": []
  },
  {
   "cell_type": "code",
   "execution_count": 10,
   "metadata": {},
   "outputs": [],
   "source": [
    "packet=packets[1]\n",
    "compare_packet(packet)"
   ]
  }
 ],
 "metadata": {
  "kernelspec": {
   "display_name": "Python 3.9.13 ('base')",
   "language": "python",
   "name": "python3"
  },
  "language_info": {
   "codemirror_mode": {
    "name": "ipython",
    "version": 3
   },
   "file_extension": ".py",
   "mimetype": "text/x-python",
   "name": "python",
   "nbconvert_exporter": "python",
   "pygments_lexer": "ipython3",
   "version": "3.9.16"
  },
  "orig_nbformat": 4,
  "vscode": {
   "interpreter": {
    "hash": "1eab39844f49fe378870e01884132b9a01e61bfdb7013dba0b232b1cf67de0bc"
   }
  }
 },
 "nbformat": 4,
 "nbformat_minor": 2
}
