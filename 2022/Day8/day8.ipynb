{
 "cells": [
  {
   "cell_type": "code",
   "execution_count": 129,
   "metadata": {},
   "outputs": [],
   "source": [
    "import numpy as np"
   ]
  },
  {
   "cell_type": "code",
   "execution_count": 130,
   "metadata": {},
   "outputs": [
    {
     "data": {
      "text/plain": [
       "99"
      ]
     },
     "execution_count": 130,
     "metadata": {},
     "output_type": "execute_result"
    }
   ],
   "source": [
    "with open(\"input.txt\") as file:\n",
    "    lines=file.readlines()\n",
    "    \n",
    "lines=[line.strip() for line in lines]\n",
    "len(lines)"
   ]
  },
  {
   "cell_type": "code",
   "execution_count": 131,
   "metadata": {},
   "outputs": [
    {
     "data": {
      "text/plain": [
       "99"
      ]
     },
     "execution_count": 131,
     "metadata": {},
     "output_type": "execute_result"
    }
   ],
   "source": [
    "len(lines[-1])"
   ]
  },
  {
   "cell_type": "code",
   "execution_count": 132,
   "metadata": {},
   "outputs": [],
   "source": [
    "array=np.zeros((len(lines),len(lines[0])),int)\n",
    "visible=array.copy()\n",
    "scenic_scores=array.copy()"
   ]
  },
  {
   "cell_type": "code",
   "execution_count": 133,
   "metadata": {},
   "outputs": [
    {
     "data": {
      "text/plain": [
       "array([[2, 2, 2, ..., 2, 1, 0],\n",
       "       [1, 0, 2, ..., 1, 1, 1],\n",
       "       [1, 0, 2, ..., 0, 2, 2],\n",
       "       ...,\n",
       "       [2, 0, 1, ..., 1, 1, 1],\n",
       "       [2, 0, 2, ..., 0, 2, 2],\n",
       "       [2, 1, 0, ..., 0, 1, 1]])"
      ]
     },
     "execution_count": 133,
     "metadata": {},
     "output_type": "execute_result"
    }
   ],
   "source": [
    "for i, line in enumerate(lines):\n",
    "    for j, char in enumerate(line):\n",
    "        array[i,j]=int(char)\n",
    "\n",
    "array"
   ]
  },
  {
   "cell_type": "code",
   "execution_count": 134,
   "metadata": {},
   "outputs": [
    {
     "data": {
      "text/plain": [
       "array([[1, 1, 1, ..., 1, 1, 1],\n",
       "       [1, 0, 0, ..., 0, 0, 1],\n",
       "       [1, 0, 0, ..., 0, 0, 1],\n",
       "       ...,\n",
       "       [1, 0, 0, ..., 0, 0, 1],\n",
       "       [1, 0, 0, ..., 0, 0, 1],\n",
       "       [1, 1, 1, ..., 1, 1, 1]])"
      ]
     },
     "execution_count": 134,
     "metadata": {},
     "output_type": "execute_result"
    }
   ],
   "source": [
    "# Set all edges to be visible\n",
    "visible[0,:]=visible[-1,:]=visible[:,0]=visible[:,-1]=1\n",
    "visible"
   ]
  },
  {
   "cell_type": "code",
   "execution_count": 135,
   "metadata": {},
   "outputs": [
    {
     "data": {
      "text/plain": [
       "array([[1, 1, 1, ..., 1, 1, 1],\n",
       "       [1, 0, 1, ..., 0, 0, 1],\n",
       "       [1, 0, 1, ..., 0, 1, 1],\n",
       "       ...,\n",
       "       [1, 0, 0, ..., 1, 0, 1],\n",
       "       [1, 0, 1, ..., 0, 1, 1],\n",
       "       [1, 1, 1, ..., 1, 1, 1]])"
      ]
     },
     "execution_count": 135,
     "metadata": {},
     "output_type": "execute_result"
    }
   ],
   "source": [
    "for i in range(1,array.shape[0]-1):\n",
    "    for j in range(1,array.shape[1]-1):\n",
    "        item=array[i,j]\n",
    "        if item > max(array[i,:j]) or item > max(array[i,j+1:])\\\n",
    "            or item > max(array[i+1:,j]) or item > max(array[:i:,j]):\n",
    "            visible[i,j]=1\n",
    "\n",
    "visible\n"
   ]
  },
  {
   "cell_type": "code",
   "execution_count": 136,
   "metadata": {},
   "outputs": [
    {
     "data": {
      "text/plain": [
       "1798"
      ]
     },
     "execution_count": 136,
     "metadata": {},
     "output_type": "execute_result"
    }
   ],
   "source": [
    "visible.sum()"
   ]
  },
  {
   "cell_type": "markdown",
   "metadata": {},
   "source": [
    "# Part 2"
   ]
  },
  {
   "cell_type": "code",
   "execution_count": 137,
   "metadata": {},
   "outputs": [],
   "source": [
    "for i in range(1,array.shape[0]-1):\n",
    "    for j in range(1,array.shape[1]-1):\n",
    "        tree_length=array[i,j]\n",
    "        viewing_distances=np.zeros((4),int)\n",
    "\n",
    "        vert_dist=array.shape[0]-1\n",
    "        hor_dist=array.shape[1]-1\n",
    "\n",
    "        i_dist=i\n",
    "        j_dist=j\n",
    "\n",
    "        while(True): # Up\n",
    "            i_dist+=1\n",
    "            if array[i_dist,j_dist]>=tree_length or i_dist==vert_dist:\n",
    "                break\n",
    "        viewing_distances[0]=abs(i_dist-i)\n",
    "\n",
    "        i_dist=i\n",
    "\n",
    "        while(True): # Down\n",
    "            i_dist-=1\n",
    "            if array[i_dist,j_dist]>=tree_length or i_dist==0:\n",
    "                break\n",
    "        viewing_distances[1]=abs(i_dist-i)\n",
    "\n",
    "        i_dist=i\n",
    "        j_dist=j\n",
    "\n",
    "        while(True): # Right\n",
    "            j_dist+=1\n",
    "            if array[i_dist,j_dist]>=tree_length or j_dist==vert_dist:\n",
    "                break\n",
    "        viewing_distances[2]=abs(j_dist-j)\n",
    "\n",
    "        j_dist=j\n",
    "\n",
    "        while(True): # Left\n",
    "            j_dist-=1\n",
    "            if array[i_dist,j_dist]>=tree_length or j_dist==0:\n",
    "                break\n",
    "        viewing_distances[3]=abs(j_dist-j)\n",
    "\n",
    "        scenic_scores[i,j]=viewing_distances.prod()\n"
   ]
  },
  {
   "cell_type": "code",
   "execution_count": 138,
   "metadata": {},
   "outputs": [
    {
     "data": {
      "text/plain": [
       "array([[ 0,  0,  0, ...,  0,  0,  0],\n",
       "       [ 0,  1,  6, ...,  2,  1,  0],\n",
       "       [ 0,  1,  8, ...,  1, 16,  0],\n",
       "       ...,\n",
       "       [ 0,  1,  2, ..., 16,  2,  0],\n",
       "       [ 0,  1, 32, ...,  1,  9,  0],\n",
       "       [ 0,  0,  0, ...,  0,  0,  0]])"
      ]
     },
     "execution_count": 138,
     "metadata": {},
     "output_type": "execute_result"
    }
   ],
   "source": [
    "scenic_scores"
   ]
  },
  {
   "cell_type": "code",
   "execution_count": 141,
   "metadata": {},
   "outputs": [
    {
     "data": {
      "text/plain": [
       "259308"
      ]
     },
     "execution_count": 141,
     "metadata": {},
     "output_type": "execute_result"
    }
   ],
   "source": [
    "scenic_scores.max()"
   ]
  }
 ],
 "metadata": {
  "kernelspec": {
   "display_name": "Python 3.9.13 ('base')",
   "language": "python",
   "name": "python3"
  },
  "language_info": {
   "codemirror_mode": {
    "name": "ipython",
    "version": 3
   },
   "file_extension": ".py",
   "mimetype": "text/x-python",
   "name": "python",
   "nbconvert_exporter": "python",
   "pygments_lexer": "ipython3",
   "version": "3.9.13"
  },
  "orig_nbformat": 4,
  "vscode": {
   "interpreter": {
    "hash": "1eab39844f49fe378870e01884132b9a01e61bfdb7013dba0b232b1cf67de0bc"
   }
  }
 },
 "nbformat": 4,
 "nbformat_minor": 2
}
