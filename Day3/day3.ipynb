{
 "cells": [
  {
   "cell_type": "code",
   "execution_count": 1,
   "metadata": {},
   "outputs": [],
   "source": [
    "with open('input.txt') as file:\n",
    "    lines = file.readlines()\n"
   ]
  },
  {
   "cell_type": "code",
   "execution_count": 24,
   "metadata": {},
   "outputs": [],
   "source": [
    "rucksacks = []\n",
    "for line in lines:\n",
    "    line = line.rstrip()\n",
    "    half = int((len(line))/2)\n",
    "    comp1 = line[:half]\n",
    "    comp2 = line[half:]\n",
    "    rucksacks.append((comp1, comp2))\n"
   ]
  },
  {
   "cell_type": "code",
   "execution_count": 96,
   "metadata": {},
   "outputs": [],
   "source": [
    "def get_priority(letter: str) -> int:\n",
    "    ascii_value = ord(letter)\n",
    "    if ascii_value >= 97:  # lowercase letter, starts at 97\n",
    "        return ascii_value-96\n",
    "    else:  # Capital letter, starts at 65\n",
    "        return ascii_value - 38\n"
   ]
  },
  {
   "cell_type": "code",
   "execution_count": 99,
   "metadata": {},
   "outputs": [],
   "source": [
    "def get_common(rucksack)->str:\n",
    "    compartment1=rucksack[0]\n",
    "    compartment2=rucksack[1]\n",
    "\n",
    "    for item in compartment1:\n",
    "        if compartment2.find(item) != -1:\n",
    "            return item"
   ]
  },
  {
   "cell_type": "code",
   "execution_count": 100,
   "metadata": {},
   "outputs": [],
   "source": [
    "commons = []\n",
    "priorities = []\n",
    "for rucksack in rucksacks:\n",
    "    item=get_common(rucksack)\n",
    "    commons.append(item)\n",
    "    priorities.append(get_priority(item))\n"
   ]
  },
  {
   "cell_type": "code",
   "execution_count": 101,
   "metadata": {},
   "outputs": [
    {
     "data": {
      "text/plain": [
       "7980"
      ]
     },
     "execution_count": 101,
     "metadata": {},
     "output_type": "execute_result"
    }
   ],
   "source": [
    "sum(priorities) # 5309 too low"
   ]
  }
 ],
 "metadata": {
  "kernelspec": {
   "display_name": "Python 3.9.13 ('base')",
   "language": "python",
   "name": "python3"
  },
  "language_info": {
   "codemirror_mode": {
    "name": "ipython",
    "version": 3
   },
   "file_extension": ".py",
   "mimetype": "text/x-python",
   "name": "python",
   "nbconvert_exporter": "python",
   "pygments_lexer": "ipython3",
   "version": "3.9.13"
  },
  "orig_nbformat": 4,
  "vscode": {
   "interpreter": {
    "hash": "1eab39844f49fe378870e01884132b9a01e61bfdb7013dba0b232b1cf67de0bc"
   }
  }
 },
 "nbformat": 4,
 "nbformat_minor": 2
}
