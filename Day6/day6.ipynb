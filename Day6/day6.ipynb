{
 "cells": [
  {
   "cell_type": "code",
   "execution_count": 31,
   "metadata": {},
   "outputs": [],
   "source": [
    "with open('input.txt') as file:\n",
    "    lines = file.readlines()"
   ]
  },
  {
   "cell_type": "code",
   "execution_count": 32,
   "metadata": {},
   "outputs": [
    {
     "name": "stdout",
     "output_type": "stream",
     "text": [
      "1343 qwhd\n"
     ]
    }
   ],
   "source": [
    "for line in lines:\n",
    "    buffer_tail=0\n",
    "    buffer_head=1\n",
    "    for char in line[1:]:\n",
    "        buffer=line[buffer_tail:buffer_head]\n",
    "        if buffer.find(char)!=-1:\n",
    "            buffer_tail+=(buffer.find(char)+1)\n",
    "        if len(buffer)==4:\n",
    "            output=buffer_head\n",
    "            break\n",
    "        buffer_head+=1\n",
    "    \n",
    "    print(output,buffer)"
   ]
  }
 ],
 "metadata": {
  "kernelspec": {
   "display_name": "Python 3.9.13 ('base')",
   "language": "python",
   "name": "python3"
  },
  "language_info": {
   "codemirror_mode": {
    "name": "ipython",
    "version": 3
   },
   "file_extension": ".py",
   "mimetype": "text/x-python",
   "name": "python",
   "nbconvert_exporter": "python",
   "pygments_lexer": "ipython3",
   "version": "3.9.13"
  },
  "orig_nbformat": 4,
  "vscode": {
   "interpreter": {
    "hash": "1eab39844f49fe378870e01884132b9a01e61bfdb7013dba0b232b1cf67de0bc"
   }
  }
 },
 "nbformat": 4,
 "nbformat_minor": 2
}
