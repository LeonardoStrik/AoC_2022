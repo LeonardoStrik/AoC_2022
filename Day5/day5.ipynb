{
 "cells": [
  {
   "cell_type": "code",
   "execution_count": 241,
   "metadata": {},
   "outputs": [],
   "source": [
    "with open('input.txt') as file:\n",
    "    lines = file.readlines()"
   ]
  },
  {
   "cell_type": "code",
   "execution_count": 242,
   "metadata": {},
   "outputs": [
    {
     "data": {
      "text/plain": [
       "9"
      ]
     },
     "execution_count": 242,
     "metadata": {},
     "output_type": "execute_result"
    }
   ],
   "source": [
    "# Find last row of crate arrangement:\n",
    "for column_iter, line in enumerate(lines):\n",
    "    if line == \"\\n\":\n",
    "        crate_end=column_iter\n",
    "        break\n",
    "\n",
    "crate_end"
   ]
  },
  {
   "cell_type": "code",
   "execution_count": 243,
   "metadata": {},
   "outputs": [
    {
     "data": {
      "text/plain": [
       "9"
      ]
     },
     "execution_count": 243,
     "metadata": {},
     "output_type": "execute_result"
    }
   ],
   "source": [
    "# Check amount of stacks\n",
    "column_numbers=lines[crate_end-1]\n",
    "column_numbers=column_numbers.strip()\n",
    "column_numbers=column_numbers.replace(\" \",\"\")\n",
    "column_numbers=[int(x) for x in column_numbers]\n",
    "n_columns=max(column_numbers)\n",
    "\n",
    "n_columns"
   ]
  },
  {
   "cell_type": "code",
   "execution_count": 244,
   "metadata": {},
   "outputs": [
    {
     "data": {
      "text/plain": [
       "[['R', 'G', 'H', 'Q', 'S', 'B', 'T', 'N'],\n",
       " ['H', 'S', 'F', 'D', 'P', 'Z', 'J'],\n",
       " ['Z', 'H', 'V'],\n",
       " ['M', 'Z', 'J', 'F', 'G', 'H']]"
      ]
     },
     "execution_count": 244,
     "metadata": {},
     "output_type": "execute_result"
    }
   ],
   "source": [
    "def column_maker()->list:\n",
    "    # Store each column in a list, and all lists in a list\n",
    "    columns=[[] for _ in column_numbers]\n",
    "\n",
    "    # Split crates into columns\n",
    "    # each crate arrangement line contains 3 characters for a column, and then a space to separate columns, so steps of 4\n",
    "    for line in lines[:crate_end]:\n",
    "        for column_iter,char_iter in enumerate(range(0,len(line),4)):\n",
    "            if line[char_iter] == \"[\":\n",
    "                (columns[column_iter]).append(line[char_iter+1])\n",
    "\n",
    "    # But now the columns are upside-down\n",
    "    for column in columns:\n",
    "        column = column.reverse()\n",
    "    \n",
    "    return columns\n",
    "\n",
    "column_maker()[:4]"
   ]
  },
  {
   "cell_type": "code",
   "execution_count": 245,
   "metadata": {},
   "outputs": [
    {
     "data": {
      "text/plain": [
       "[(3, 9, 7), (4, 4, 5), (2, 4, 6), (4, 7, 5)]"
      ]
     },
     "execution_count": 245,
     "metadata": {},
     "output_type": "execute_result"
    }
   ],
   "source": [
    "# Now we need to parse commands\n",
    "# They are always separated by spaces\n",
    "commands=[]\n",
    "\n",
    "for line in lines[crate_end+1:]:\n",
    "    line=line.strip().split(\" \")\n",
    "\n",
    "    # the second, fourth and sixth item are our amount, from and to values, respectively\n",
    "    amount=int(line[1])\n",
    "    from_column=int(line[3])\n",
    "    to_column=int(line[5])\n",
    "    commands.append((amount,from_column, to_column))\n",
    "\n",
    "commands[:4]\n"
   ]
  },
  {
   "cell_type": "code",
   "execution_count": 246,
   "metadata": {},
   "outputs": [
    {
     "data": {
      "text/plain": [
       "[['P', 'D', 'P'],\n",
       " ['B', 'N', 'R', 'H', 'J', 'T', 'Q', 'M', 'T'],\n",
       " ['S', 'W'],\n",
       " ['H', 'V', 'F', 'W', 'M', 'D', 'L', 'S', 'T', 'Z', 'L'],\n",
       " ['C', 'G', 'Q', 'H', 'F', 'F', 'T'],\n",
       " ['N', 'M', 'Z', 'H', 'Z', 'Z', 'D'],\n",
       " ['S'],\n",
       " ['J'],\n",
       " ['Z', 'M', 'C', 'H', 'V', 'L', 'Z', 'G', 'J', 'S', 'W', 'H', 'T', 'R', 'V']]"
      ]
     },
     "execution_count": 246,
     "metadata": {},
     "output_type": "execute_result"
    }
   ],
   "source": [
    "# Now let's process the commands one by one\n",
    "pt1_columns= column_maker()\n",
    "\n",
    "for amount, from_column,to_column in commands:\n",
    "    for i in range (amount):\n",
    "        pt1_columns[to_column-1].append(pt1_columns[from_column-1].pop())\n",
    "\n",
    "pt1_columns"
   ]
  },
  {
   "cell_type": "code",
   "execution_count": 247,
   "metadata": {},
   "outputs": [
    {
     "data": {
      "text/plain": [
       "'PTWLTDSJV'"
      ]
     },
     "execution_count": 247,
     "metadata": {},
     "output_type": "execute_result"
    }
   ],
   "source": [
    "# Now let's produce the output needed\n",
    "def output_formatter(columns:list)->str:\n",
    "    output=str()\n",
    "    for column in columns:\n",
    "        output+=column[-1]\n",
    "    return output\n",
    "\n",
    "output_formatter(pt1_columns)"
   ]
  },
  {
   "cell_type": "markdown",
   "metadata": {},
   "source": [
    "# Part 2"
   ]
  },
  {
   "cell_type": "code",
   "execution_count": 248,
   "metadata": {},
   "outputs": [
    {
     "data": {
      "text/plain": [
       "[['R', 'G', 'H', 'Q', 'S', 'B', 'T', 'N'],\n",
       " ['H', 'S', 'F', 'D', 'P', 'Z', 'J'],\n",
       " ['Z', 'H', 'V'],\n",
       " ['M', 'Z', 'J', 'F', 'G', 'H'],\n",
       " ['T', 'Z', 'C', 'D', 'L', 'M', 'S', 'R'],\n",
       " ['M', 'T', 'W', 'V', 'H', 'Z', 'J'],\n",
       " ['T', 'F', 'P', 'L', 'Z'],\n",
       " ['Q', 'V', 'W', 'S'],\n",
       " ['W', 'H', 'L', 'M', 'T', 'D', 'N', 'C']]"
      ]
     },
     "execution_count": 248,
     "metadata": {},
     "output_type": "execute_result"
    }
   ],
   "source": [
    "pt2_columns=column_maker()\n",
    "pt2_columns"
   ]
  },
  {
   "cell_type": "code",
   "execution_count": 249,
   "metadata": {},
   "outputs": [
    {
     "data": {
      "text/plain": [
       "[['V', 'D', 'W'],\n",
       " ['Z', 'D', 'H', 'M', 'L', 'S', 'J', 'W', 'Z'],\n",
       " ['S', 'M'],\n",
       " ['H', 'F', 'R', 'N', 'Z', 'S', 'F', 'M', 'M', 'J', 'F'],\n",
       " ['R', 'D', 'T', 'H', 'H', 'T', 'V'],\n",
       " ['S', 'N', 'H', 'T', 'Z', 'T', 'G'],\n",
       " ['G'],\n",
       " ['Z'],\n",
       " ['Z', 'W', 'T', 'C', 'Q', 'C', 'Q', 'H', 'P', 'J', 'L', 'L', 'B', 'V', 'P']]"
      ]
     },
     "execution_count": 249,
     "metadata": {},
     "output_type": "execute_result"
    }
   ],
   "source": [
    "# Now, we move \"amount\" of crates onto the new stack, but we start with the last\n",
    "for amount, from_column,to_column in commands:\n",
    "    for i in range(-amount,0):\n",
    "        pt2_columns[to_column-1].append(pt2_columns[from_column-1].pop(i))\n",
    "\n",
    "pt2_columns"
   ]
  },
  {
   "cell_type": "code",
   "execution_count": 250,
   "metadata": {},
   "outputs": [
    {
     "data": {
      "text/plain": [
       "'WZMFVGGZP'"
      ]
     },
     "execution_count": 250,
     "metadata": {},
     "output_type": "execute_result"
    }
   ],
   "source": [
    "output_formatter(pt2_columns)"
   ]
  }
 ],
 "metadata": {
  "kernelspec": {
   "display_name": "Python 3.9.13 ('base')",
   "language": "python",
   "name": "python3"
  },
  "language_info": {
   "codemirror_mode": {
    "name": "ipython",
    "version": 3
   },
   "file_extension": ".py",
   "mimetype": "text/x-python",
   "name": "python",
   "nbconvert_exporter": "python",
   "pygments_lexer": "ipython3",
   "version": "3.9.13"
  },
  "orig_nbformat": 4,
  "vscode": {
   "interpreter": {
    "hash": "1eab39844f49fe378870e01884132b9a01e61bfdb7013dba0b232b1cf67de0bc"
   }
  }
 },
 "nbformat": 4,
 "nbformat_minor": 2
}
